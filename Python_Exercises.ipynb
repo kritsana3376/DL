{
  "cells": [
    {
      "cell_type": "markdown",
      "metadata": {
        "id": "view-in-github",
        "colab_type": "text"
      },
      "source": [
        "<a href=\"https://colab.research.google.com/github/kritsana3376/DL/blob/main/Python_Exercises.ipynb\" target=\"_parent\"><img src=\"https://colab.research.google.com/assets/colab-badge.svg\" alt=\"Open In Colab\"/></a>"
      ]
    },
    {
      "cell_type": "markdown",
      "metadata": {
        "id": "IzkG7l9BHzrs"
      },
      "source": [
        "## <font color='red'> Input ID, Name, Sec in cell below:</font>"
      ]
    },
    {
      "cell_type": "markdown",
      "metadata": {
        "id": "RgFG89qCHzrx"
      },
      "source": [
        "Name: Kritsana Netpugdee\n",
        "\n",
        "ID: 6210551637\n",
        "\n",
        "Sec: 250 "
      ]
    },
    {
      "cell_type": "markdown",
      "metadata": {
        "id": "zf_afPMGHzry"
      },
      "source": [
        "# Python Exercises \n",
        "\n",
        "This is an exercise to test your understanding of Python Basics. "
      ]
    },
    {
      "cell_type": "markdown",
      "metadata": {
        "id": "S-xi1-FeHzry"
      },
      "source": [
        "## Exercises\n",
        "\n",
        "Answer the questions or complete the tasks outlined in bold below, use the specific method described if applicable."
      ]
    },
    {
      "cell_type": "markdown",
      "metadata": {
        "id": "6xB01WiFHzrz"
      },
      "source": [
        "** What is 7 to the power of 4?**"
      ]
    },
    {
      "cell_type": "code",
      "execution_count": null,
      "metadata": {
        "id": "jHGaDGGsHzr0",
        "outputId": "54b882b8-1f89-40b7-b9e5-757d9bc44e24"
      },
      "outputs": [
        {
          "name": "stdout",
          "output_type": "stream",
          "text": [
            "2401\n"
          ]
        }
      ],
      "source": [
        "# Type your code here:\n",
        "A = 7**4\n",
        "print(A)"
      ]
    },
    {
      "cell_type": "code",
      "execution_count": null,
      "metadata": {
        "id": "w70oErgfHzr2",
        "outputId": "f224f4f8-de64-440e-85e0-be012b2cf9e4"
      },
      "outputs": [
        {
          "data": {
            "text/plain": [
              "2401"
            ]
          },
          "execution_count": 1,
          "metadata": {},
          "output_type": "execute_result"
        }
      ],
      "source": [
        "# This shows the expected result (Do not run this cell!!!)"
      ]
    },
    {
      "cell_type": "markdown",
      "metadata": {
        "id": "N8rWPYZDHzr3"
      },
      "source": [
        "** Split this string:**\n",
        "\n",
        "    s = \"Hi there Sam!\"\n",
        "    \n",
        "**into a list. **"
      ]
    },
    {
      "cell_type": "code",
      "execution_count": null,
      "metadata": {
        "id": "JcRJPETOHzr4"
      },
      "outputs": [],
      "source": [
        "s = 'Hi there Sam!'"
      ]
    },
    {
      "cell_type": "code",
      "execution_count": null,
      "metadata": {
        "id": "AsVg1lHiHzr5",
        "outputId": "3d9752f6-7c8b-44ed-b488-e74a80162660"
      },
      "outputs": [
        {
          "name": "stdout",
          "output_type": "stream",
          "text": [
            "['Hi', 'there', 'Sam!']\n"
          ]
        }
      ],
      "source": [
        "# Type your code here:\n",
        "x = s.split()\n",
        "print(x)"
      ]
    },
    {
      "cell_type": "code",
      "execution_count": null,
      "metadata": {
        "id": "yMRctLrDHzr6",
        "outputId": "6e837770-76dd-4789-ab34-befd1f80bdb7"
      },
      "outputs": [
        {
          "data": {
            "text/plain": [
              "['Hi', 'there', 'Sam!']"
            ]
          },
          "execution_count": 3,
          "metadata": {},
          "output_type": "execute_result"
        }
      ],
      "source": [
        "# This shows the expected result (Do not run this cell!!!)"
      ]
    },
    {
      "cell_type": "markdown",
      "metadata": {
        "id": "GgM2rhMdHzr6"
      },
      "source": [
        "** Given the variables:**\n",
        "\n",
        "    planet = \"Earth\"\n",
        "    diameter = 12742.562\n",
        "\n",
        "** Use .format() to print the following string: **\n",
        "\n",
        "    The diameter of Earth is 12742.56 kilometers."
      ]
    },
    {
      "cell_type": "code",
      "execution_count": null,
      "metadata": {
        "id": "dOFLKxnvHzr7"
      },
      "outputs": [],
      "source": [
        "planet = \"Earth\"\n",
        "diameter = 12742.562"
      ]
    },
    {
      "cell_type": "code",
      "execution_count": null,
      "metadata": {
        "id": "Xvmw-98jHzr7",
        "outputId": "670ece5a-aa62-4f26-9e93-23125f26656e"
      },
      "outputs": [
        {
          "name": "stdout",
          "output_type": "stream",
          "text": [
            "The diameter of Earth is 12742.56 kilometers.\n"
          ]
        }
      ],
      "source": [
        "# Type your code here:\n",
        "txt1 = \"The diameter of {} is {:.2f} kilometers.\".format(planet,diameter)\n",
        "print(txt1)"
      ]
    },
    {
      "cell_type": "code",
      "execution_count": null,
      "metadata": {
        "id": "MeorIc2SHzsK",
        "outputId": "f848e2c9-9f10-4bec-eb13-518de28075a0"
      },
      "outputs": [
        {
          "name": "stdout",
          "output_type": "stream",
          "text": [
            "The diameter of Earth is 12742.56 kilometers.\n"
          ]
        }
      ],
      "source": [
        "# This shows the expected result (Do not run this cell!!!)"
      ]
    },
    {
      "cell_type": "markdown",
      "metadata": {
        "id": "q1BIIQ2DHzsL"
      },
      "source": [
        "** Given this nested list, use indexing to grab the word \"hello\" **"
      ]
    },
    {
      "cell_type": "code",
      "execution_count": null,
      "metadata": {
        "id": "zaVPkJ_JHzsL"
      },
      "outputs": [],
      "source": [
        "lst = [1,2,[3,4],[5,[100,200,['hello']],23,11],1,7]"
      ]
    },
    {
      "cell_type": "code",
      "execution_count": null,
      "metadata": {
        "id": "k_grTkOPHzsL",
        "outputId": "0a465989-d254-4211-8555-78830897193a"
      },
      "outputs": [
        {
          "data": {
            "text/plain": [
              "'hello'"
            ]
          },
          "execution_count": 50,
          "metadata": {},
          "output_type": "execute_result"
        }
      ],
      "source": [
        "# Type your code here:\n",
        "#print(f\"'{lst[3][1][2][0]}'\")\n",
        "lst[3][1][2][0]"
      ]
    },
    {
      "cell_type": "code",
      "execution_count": null,
      "metadata": {
        "id": "u-tpIvMaHzsM",
        "outputId": "beaa9e1f-56fc-40df-eea8-6be9e43866ed"
      },
      "outputs": [
        {
          "data": {
            "text/plain": [
              "'hello'"
            ]
          },
          "execution_count": 7,
          "metadata": {},
          "output_type": "execute_result"
        }
      ],
      "source": [
        "# This shows the expected result (Do not run this cell!!!)"
      ]
    },
    {
      "cell_type": "markdown",
      "metadata": {
        "id": "IqnBb8jnHzsM"
      },
      "source": [
        "** Given this nested dictionary grab the word \"hello\". Be prepared, this will be annoying/tricky **"
      ]
    },
    {
      "cell_type": "code",
      "execution_count": null,
      "metadata": {
        "id": "GmmGu6qUHzsM"
      },
      "outputs": [],
      "source": [
        "d = {'k1':[1,2,3,{'tricky':['oh','man','inception',{'target':[1,2,3,'hello']}]}]}"
      ]
    },
    {
      "cell_type": "code",
      "execution_count": null,
      "metadata": {
        "id": "cBNJTZizHzsN",
        "outputId": "26fbedac-69a3-4126-fc7a-f6e7c27579fe"
      },
      "outputs": [
        {
          "data": {
            "text/plain": [
              "'hello'"
            ]
          },
          "execution_count": 51,
          "metadata": {},
          "output_type": "execute_result"
        }
      ],
      "source": [
        "# Type your code here:\n",
        "d['k1'][3]['tricky'][3]['target'][3]"
      ]
    },
    {
      "cell_type": "code",
      "execution_count": null,
      "metadata": {
        "id": "qPpXaJRMHzsN",
        "outputId": "30ffe9c8-a804-47df-e3d2-7a0ce4adb70d"
      },
      "outputs": [
        {
          "data": {
            "text/plain": [
              "'hello'"
            ]
          },
          "execution_count": 10,
          "metadata": {},
          "output_type": "execute_result"
        }
      ],
      "source": [
        "# This shows the expected result (Do not run this cell!!!)"
      ]
    },
    {
      "cell_type": "markdown",
      "metadata": {
        "id": "LfGiMmm3HzsO"
      },
      "source": [
        "** What is the main difference between a tuple and a list? **"
      ]
    },
    {
      "cell_type": "markdown",
      "metadata": {
        "id": "S2_IVtpUHzsO"
      },
      "source": [
        "ใน list สามารถแก้ค่าของข้อมูลได้ แต่ใน tuple ไม่สามารถแก้ค่าของข้อมูลได้"
      ]
    },
    {
      "cell_type": "markdown",
      "metadata": {
        "id": "GgDEJwGuHzsO"
      },
      "source": [
        "** Create a function named \"domainGet\" that grabs the email website domain from a string in the form: **\n",
        "\n",
        "    user@domain.com\n",
        "    \n",
        "**So for example, passing \"user@domain.com\" would return: domain.com**"
      ]
    },
    {
      "cell_type": "code",
      "execution_count": null,
      "metadata": {
        "id": "z6QPc3jWHzsO"
      },
      "outputs": [],
      "source": [
        "# Type your code here:\n",
        "def domainGet(str):\n",
        "    find_ad = str.find('@') + 1\n",
        "    print(f\"'{str[find_ad:]}'\") "
      ]
    },
    {
      "cell_type": "code",
      "execution_count": null,
      "metadata": {
        "id": "QTj0rTMjHzsP",
        "outputId": "9a6b605f-948f-4663-b2d7-2e2c8e278202"
      },
      "outputs": [
        {
          "name": "stdout",
          "output_type": "stream",
          "text": [
            "'domain.com'\n"
          ]
        }
      ],
      "source": [
        "domainGet('user@domain.com')"
      ]
    },
    {
      "cell_type": "code",
      "execution_count": null,
      "metadata": {
        "id": "I3ts8GiTHzsP",
        "outputId": "06e72a36-a8ad-4b41-ff28-1dd1b0bd2e0a"
      },
      "outputs": [
        {
          "data": {
            "text/plain": [
              "'domain.com'"
            ]
          },
          "execution_count": 12,
          "metadata": {},
          "output_type": "execute_result"
        }
      ],
      "source": [
        "# This shows the expected result (Do not run this cell!!!)"
      ]
    },
    {
      "cell_type": "markdown",
      "metadata": {
        "id": "NbLyRMuIHzsP"
      },
      "source": [
        "** Create a basic function that returns True if the word 'dog' is contained in the input string.**"
      ]
    },
    {
      "cell_type": "code",
      "execution_count": null,
      "metadata": {
        "id": "_AleHCt0HzsP"
      },
      "outputs": [],
      "source": [
        "# Type your code here:\n",
        "def findDog(str):\n",
        "    find_Dog = str.find('dog')\n",
        "    if find_Dog == -1:\n",
        "        print(\"False\")\n",
        "    else:\n",
        "        print(\"True\")"
      ]
    },
    {
      "cell_type": "code",
      "execution_count": null,
      "metadata": {
        "id": "-v8-TuSrHzsP",
        "outputId": "68d703df-a5b1-40d5-ca33-a99c9732a450"
      },
      "outputs": [
        {
          "name": "stdout",
          "output_type": "stream",
          "text": [
            "True\n"
          ]
        }
      ],
      "source": [
        "findDog('Is there a dog here?')"
      ]
    },
    {
      "cell_type": "code",
      "execution_count": null,
      "metadata": {
        "id": "aGgiK20lHzsQ",
        "outputId": "edf44e29-2535-465b-f4b5-3ff5c553c3fe"
      },
      "outputs": [
        {
          "data": {
            "text/plain": [
              "True"
            ]
          },
          "execution_count": 14,
          "metadata": {},
          "output_type": "execute_result"
        }
      ],
      "source": [
        "# This shows the expected result (Do not run this cell!!!)"
      ]
    },
    {
      "cell_type": "markdown",
      "metadata": {
        "id": "uTByV6H3HzsQ"
      },
      "source": [
        "** Create a function that counts the number of times the word \"dog\" occurs in a string.**"
      ]
    },
    {
      "cell_type": "code",
      "execution_count": null,
      "metadata": {
        "id": "YvEvsGX7HzsQ"
      },
      "outputs": [],
      "source": [
        "# Type your code here:\n",
        "def countDog(str):\n",
        "    count_dog = str.count(\"dog\")\n",
        "    print(count_dog)"
      ]
    },
    {
      "cell_type": "code",
      "execution_count": null,
      "metadata": {
        "id": "a_zNhqOJHzsQ",
        "outputId": "9117bbdf-7ce4-4941-c471-72bb1b06f430"
      },
      "outputs": [
        {
          "name": "stdout",
          "output_type": "stream",
          "text": [
            "2\n"
          ]
        }
      ],
      "source": [
        "countDog('This dog runs faster than the other dog dude!')"
      ]
    },
    {
      "cell_type": "code",
      "execution_count": null,
      "metadata": {
        "id": "5O0IQDXOHzsR",
        "outputId": "dc507088-d353-4bec-d26a-0475b1e1e9cd"
      },
      "outputs": [
        {
          "data": {
            "text/plain": [
              "2"
            ]
          },
          "execution_count": 16,
          "metadata": {},
          "output_type": "execute_result"
        }
      ],
      "source": [
        "# This shows the expected result (Do not run this cell!!!)"
      ]
    },
    {
      "cell_type": "markdown",
      "metadata": {
        "id": "0Ud7YFXjHzsR"
      },
      "source": [
        "** Use lambda expressions and the ***filter()*** function to filter out words from a list that don't start with the letter '***s***'. For example:**\n",
        "\n",
        "    seq = ['soup','dog','salad','cat','great']\n",
        "\n",
        "**should be filtered down to:**\n",
        "\n",
        "    ['soup','salad']"
      ]
    },
    {
      "cell_type": "code",
      "execution_count": null,
      "metadata": {
        "id": "tI_fl4JnHzsR"
      },
      "outputs": [],
      "source": [
        "seq = ['soup','dog','salad','cat','great']"
      ]
    },
    {
      "cell_type": "code",
      "execution_count": null,
      "metadata": {
        "id": "yuwQSEmZHzsR",
        "outputId": "5ab5b26c-494f-4b8e-ef8a-7c016d598ad0"
      },
      "outputs": [
        {
          "data": {
            "text/plain": [
              "['soup', 'salad']"
            ]
          },
          "execution_count": 4,
          "metadata": {},
          "output_type": "execute_result"
        }
      ],
      "source": [
        "# Type your code here:\n",
        "find_latter_s = filter(lambda table : table[0] == \"s\", seq)\n",
        "find_latter_s_member = list(find_latter_s)\n",
        "find_latter_s_member"
      ]
    },
    {
      "cell_type": "code",
      "execution_count": null,
      "metadata": {
        "id": "_cQzrUtDHzsS",
        "outputId": "a898ca59-b0e7-48ad-c736-ca5294eca065"
      },
      "outputs": [
        {
          "data": {
            "text/plain": [
              "['soup', 'salad']"
            ]
          },
          "execution_count": 18,
          "metadata": {},
          "output_type": "execute_result"
        }
      ],
      "source": [
        "# This shows the expected result (Do not run this cell!!!)"
      ]
    },
    {
      "cell_type": "markdown",
      "metadata": {
        "id": "h7I--x2XHzsS"
      },
      "source": [
        "### Final Problem\n",
        "\n",
        "**You are driving a little too fast, and a police officer stops you. Write <font color = blue>a caught_speeding</font> function\n",
        "  to return one of 3 possible results: <font color = red>\"No ticket\", \"Small ticket\", or \"Big Ticket\"</font>. \n",
        "  If your speed is 60 or less, the result is \"No Ticket\". If speed is between 61 \n",
        "  and 80 inclusive, the result is \"Small Ticket\". If speed is 81 or more, the result is \"Big    Ticket\". Unless it is your birthday (encoded as a boolean value in the parameters of the function) -- on your birthday, your speed can be 5 higher in all \n",
        "  cases. **"
      ]
    },
    {
      "cell_type": "code",
      "execution_count": null,
      "metadata": {
        "id": "t7nidTvVHzsS"
      },
      "outputs": [],
      "source": [
        "def caught_speeding(speed, is_birthday):\n",
        "    # Type your code here:\n",
        "    if is_birthday == True:\n",
        "        if speed <= 65:\n",
        "          print(f|\"'No Ticket'\")\n",
        "        elif speed > 65 and speed <= 85:\n",
        "          print(f\"'Small Ticket'\")\n",
        "        else:\n",
        "          print(f\"'Big Ticket'\") \n",
        "    else:\n",
        "        if speed <= 60:\n",
        "          print(f\"'No Ticket'\")\n",
        "        elif speed > 60 and speed <= 80:\n",
        "          print(f\"'Small Ticket'\")\n",
        "        else:\n",
        "          print(f\"'Big Ticket'\") "
      ]
    },
    {
      "cell_type": "code",
      "execution_count": null,
      "metadata": {
        "id": "0CYg3eoMHzsS",
        "outputId": "386f83bc-1b45-4fe3-8c32-a8025400d8c8"
      },
      "outputs": [
        {
          "name": "stdout",
          "output_type": "stream",
          "text": [
            "'Small Ticket'\n"
          ]
        }
      ],
      "source": [
        "caught_speeding(81,True)"
      ]
    },
    {
      "cell_type": "code",
      "execution_count": null,
      "metadata": {
        "id": "PqmJLDW5HzsT",
        "outputId": "bd5ee317-363e-4cad-baf4-175e58034bf1"
      },
      "outputs": [
        {
          "data": {
            "text/plain": [
              "'Small Ticket'"
            ]
          },
          "execution_count": 20,
          "metadata": {},
          "output_type": "execute_result"
        }
      ],
      "source": [
        "# This shows the expected result (Do not run this cell!!!)"
      ]
    },
    {
      "cell_type": "code",
      "execution_count": null,
      "metadata": {
        "id": "G5gQrdLQHzsT",
        "outputId": "f967e010-51a4-4921-c7c4-8cc06eb3b789"
      },
      "outputs": [
        {
          "name": "stdout",
          "output_type": "stream",
          "text": [
            "'Big Ticket'\n"
          ]
        }
      ],
      "source": [
        "caught_speeding(81,False)"
      ]
    },
    {
      "cell_type": "code",
      "execution_count": null,
      "metadata": {
        "id": "jY-p74BzHzsT",
        "outputId": "ff316af7-ebb1-4662-f78a-fdb7c19915a2"
      },
      "outputs": [
        {
          "data": {
            "text/plain": [
              "'Big Ticket'"
            ]
          },
          "execution_count": 21,
          "metadata": {},
          "output_type": "execute_result"
        }
      ],
      "source": [
        "# This shows the expected result (Do not run this cell!!!)"
      ]
    },
    {
      "cell_type": "markdown",
      "metadata": {
        "id": "LQdCLAexHzsT"
      },
      "source": [
        "# Great job!"
      ]
    }
  ],
  "metadata": {
    "kernelspec": {
      "display_name": "Python 3 (ipykernel)",
      "language": "python",
      "name": "python3"
    },
    "language_info": {
      "codemirror_mode": {
        "name": "ipython",
        "version": 3
      },
      "file_extension": ".py",
      "mimetype": "text/x-python",
      "name": "python",
      "nbconvert_exporter": "python",
      "pygments_lexer": "ipython3",
      "version": "3.8.13"
    },
    "colab": {
      "name": "Kritsana NETPUGDEE - Python Exercises.ipynb",
      "provenance": [],
      "include_colab_link": true
    }
  },
  "nbformat": 4,
  "nbformat_minor": 0
}